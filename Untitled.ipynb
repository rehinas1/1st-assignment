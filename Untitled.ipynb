{
 "cells": [
  {
   "cell_type": "code",
   "execution_count": 1,
   "id": "1c1b113b",
   "metadata": {},
   "outputs": [
    {
     "name": "stdout",
     "output_type": "stream",
     "text": [
      "Enter the name:aparna\n",
      "Enter the rollnumber:25\n",
      "Enter the mark97\n",
      "name: aparna\n",
      "Roll number: 25\n",
      "Mark: 97\n"
     ]
    }
   ],
   "source": [
    "name=input(\"Enter the name:\")\n",
    "rollno=int(input(\"Enter the rollnumber:\"))\n",
    "mark=int(input(\"Enter the mark\"))\n",
    "print(\"name:\",name)\n",
    "print(\"Roll number:\",rollno)\n",
    "print(\"Mark:\",mark)"
   ]
  },
  {
   "cell_type": "markdown",
   "id": "9e8eb599",
   "metadata": {},
   "source": [
    "# Answer 2\n"
   ]
  },
  {
   "cell_type": "code",
   "execution_count": 4,
   "id": "a23260ab",
   "metadata": {},
   "outputs": [
    {
     "name": "stdout",
     "output_type": "stream",
     "text": [
      "Enter fahrenheit:41\n",
      "Temperature in Celsius is: \n",
      "5.0\n"
     ]
    }
   ],
   "source": [
    "Fahrenheit=float(input(\"Enter fahrenheit:\")) \n",
    "Celsius = ((Fahrenheit-32)*5)/9  \n",
    "print(\"Temperature in Celsius : \");  \n",
    "print(Celsius);  \n"
   ]
  },
  {
   "cell_type": "code",
   "execution_count": null,
   "id": "aa2401f6",
   "metadata": {},
   "outputs": [],
   "source": []
  },
  {
   "cell_type": "markdown",
   "id": "1bf1b95f",
   "metadata": {},
   "source": [
    "# answer 3"
   ]
  },
  {
   "cell_type": "code",
   "execution_count": 5,
   "id": "f6e23225",
   "metadata": {},
   "outputs": [
    {
     "name": "stdout",
     "output_type": "stream",
     "text": [
      "Enter the number1:45\n",
      "Enter the number2:23\n",
      "product of 2 numbers: 1035\n"
     ]
    }
   ],
   "source": [
    "num1=int(input(\"Enter the number1:\"))\n",
    "num2=int(input(\"Enter the number2:\"))\n",
    "product=num1*num2\n",
    "print(\"product of 2 numbers:\",product)\n"
   ]
  },
  {
   "cell_type": "markdown",
   "id": "9987f8ca",
   "metadata": {},
   "source": [
    "# answer 5"
   ]
  },
  {
   "cell_type": "code",
   "execution_count": 6,
   "id": "6ac00295",
   "metadata": {},
   "outputs": [
    {
     "name": "stdout",
     "output_type": "stream",
     "text": [
      "Enter the radius:5\n",
      "area of circle: 78.5\n"
     ]
    }
   ],
   "source": [
    "radius=float(input(\"Enter the radius:\"))\n",
    "area=3.14*radius*radius\n",
    "print(\"area of circle:\",area)"
   ]
  },
  {
   "cell_type": "raw",
   "id": "be4bcd21",
   "metadata": {},
   "source": []
  },
  {
   "cell_type": "markdown",
   "id": "ee7f4353",
   "metadata": {},
   "source": [
    "# answer 6"
   ]
  },
  {
   "cell_type": "code",
   "execution_count": 12,
   "id": "78707b23",
   "metadata": {},
   "outputs": [
    {
     "name": "stdout",
     "output_type": "stream",
     "text": [
      "List = ['apple', 'mango', 'orange']\n",
      "enter the item:kiwi\n",
      "after the list=  ['apple', 'mango', 'kiwi', 'orange']\n"
     ]
    }
   ],
   "source": [
    "lst = [\"apple\", \"mango\",  \"orange\"]\n",
    "print(\"List =\",lst)\n",
    "Item = input(\"enter the item:\")\n",
    "index = 2\n",
    "lst.insert(index,Item)\n",
    "print(\"after the list= \",lst)"
   ]
  },
  {
   "cell_type": "markdown",
   "id": "50c7ee82",
   "metadata": {},
   "source": [
    "# answer 7"
   ]
  },
  {
   "cell_type": "code",
   "execution_count": 16,
   "id": "c642d966",
   "metadata": {},
   "outputs": [
    {
     "name": "stdout",
     "output_type": "stream",
     "text": [
      "{'name': 'John', 'age': 5, 'salary': 8000, 'location': 'New York'}\n"
     ]
    }
   ],
   "source": [
    "sample_dict = { \"name\": \"John\", \"age\":5, \"salary\": 8000, \"city\": \"New York\"}\n",
    "sample_dict['location'] = sample_dict.pop('city')\n",
    "print(sample_dict)"
   ]
  },
  {
   "cell_type": "markdown",
   "id": "d7256cd3",
   "metadata": {},
   "source": [
    "# answer 10"
   ]
  },
  {
   "cell_type": "code",
   "execution_count": 22,
   "id": "6d424f34",
   "metadata": {},
   "outputs": [
    {
     "name": "stdout",
     "output_type": "stream",
     "text": [
      "3\n"
     ]
    }
   ],
   "source": [
    "tuple1 = (50, 10, 60, 70, 50,83,567,50,81)\n",
    "count = tuple1.count(50)\n",
    "\n",
    "print(count)\n"
   ]
  },
  {
   "cell_type": "markdown",
   "id": "f56e0625",
   "metadata": {},
   "source": [
    "# answer 9"
   ]
  },
  {
   "cell_type": "code",
   "execution_count": 25,
   "id": "b91ad1c0",
   "metadata": {},
   "outputs": [
    {
     "name": "stdout",
     "output_type": "stream",
     "text": [
      "(43, 54)\n"
     ]
    }
   ],
   "source": [
    "tuple1 = (10, 20, 43, 54, 56, 68)\n",
    "tuple2=tuple1[2:4]\n",
    "print(tuple2)"
   ]
  },
  {
   "cell_type": "markdown",
   "id": "8a82aff2",
   "metadata": {},
   "source": [
    "# answer 8"
   ]
  },
  {
   "cell_type": "code",
   "execution_count": 26,
   "id": "b1cc297c",
   "metadata": {},
   "outputs": [
    {
     "name": "stdout",
     "output_type": "stream",
     "text": [
      "{'emp1': {'name': 'Jhon', 'salary': 7500}, 'emp2': {'name': 'Emma', 'salary': 8000}, 'emp3': {'name': 'Brad', 'salary': 8500}}\n"
     ]
    }
   ],
   "source": [
    "sample_dict = {\n",
    "    'emp1': {'name': 'Jhon', 'salary': 7500},\n",
    "    'emp2': {'name': 'Emma', 'salary': 8000},\n",
    "    'emp3': {'name': 'Brad', 'salary': 6500}\n",
    "}\n",
    "\n",
    "sample_dict['emp3']['salary'] = 8500\n",
    "print(sample_dict)"
   ]
  },
  {
   "cell_type": "code",
   "execution_count": null,
   "id": "8782bf2c",
   "metadata": {},
   "outputs": [],
   "source": []
  }
 ],
 "metadata": {
  "kernelspec": {
   "display_name": "Python 3 (ipykernel)",
   "language": "python",
   "name": "python3"
  },
  "language_info": {
   "codemirror_mode": {
    "name": "ipython",
    "version": 3
   },
   "file_extension": ".py",
   "mimetype": "text/x-python",
   "name": "python",
   "nbconvert_exporter": "python",
   "pygments_lexer": "ipython3",
   "version": "3.9.13"
  }
 },
 "nbformat": 4,
 "nbformat_minor": 5
}
